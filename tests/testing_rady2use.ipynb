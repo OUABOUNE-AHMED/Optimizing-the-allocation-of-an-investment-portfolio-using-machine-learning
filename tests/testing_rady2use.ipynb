{
 "cells": [
  {
   "cell_type": "code",
   "execution_count": 1,
   "metadata": {},
   "outputs": [],
   "source": [
    "import sys\n",
    "sys.path.append('..')"
   ]
  },
  {
   "cell_type": "code",
   "execution_count": 9,
   "metadata": {},
   "outputs": [],
   "source": [
    "from data.indices import get_monthly_returns\n",
    "from data.indicators import get_indicators_change\n",
    "\n",
    "\n",
    "def get_data(index, indicators, start, end, lag):\n",
    "    df0 = get_monthly_returns(index, start, end)\n",
    "    df1 = get_indicators_change(indicators, start, end)\n",
    "    df[index] = df0.shift(lag)\n",
    "    return df0, df1, df.dropna()"
   ]
  },
  {
   "cell_type": "code",
   "execution_count": 10,
   "metadata": {},
   "outputs": [
    {
     "name": "stderr",
     "output_type": "stream",
     "text": [
      "c:\\Users\\T460s\\AppData\\Local\\Programs\\Python\\Python39\\lib\\site-packages\\pandas\\core\\frame.py:3641: SettingWithCopyWarning: \n",
      "A value is trying to be set on a copy of a slice from a DataFrame.\n",
      "Try using .loc[row_indexer,col_indexer] = value instead\n",
      "\n",
      "See the caveats in the documentation: https://pandas.pydata.org/pandas-docs/stable/user_guide/indexing.html#returning-a-view-versus-a-copy\n",
      "  self[k1] = value[k2]\n"
     ]
    }
   ],
   "source": [
    "s = {   \n",
    "\"Manufacturing employement\" : \"MANEMP\",\n",
    "\"Unemployement rate\"        : \"UNRATE\",  }\n",
    "\n",
    "df0, df1, df= get_data(['NASDAQ'],s, '01/01/2020', '01/01/2021', 1 )"
   ]
  },
  {
   "cell_type": "code",
   "execution_count": 11,
   "metadata": {},
   "outputs": [
    {
     "data": {
      "text/html": [
       "<div>\n",
       "<style scoped>\n",
       "    .dataframe tbody tr th:only-of-type {\n",
       "        vertical-align: middle;\n",
       "    }\n",
       "\n",
       "    .dataframe tbody tr th {\n",
       "        vertical-align: top;\n",
       "    }\n",
       "\n",
       "    .dataframe thead th {\n",
       "        text-align: right;\n",
       "    }\n",
       "</style>\n",
       "<table border=\"1\" class=\"dataframe\">\n",
       "  <thead>\n",
       "    <tr style=\"text-align: right;\">\n",
       "      <th></th>\n",
       "      <th>Manufacturing employement</th>\n",
       "      <th>Unemployement rate</th>\n",
       "      <th>NASDAQ</th>\n",
       "    </tr>\n",
       "  </thead>\n",
       "  <tbody>\n",
       "    <tr>\n",
       "      <th>2020-04-01</th>\n",
       "      <td>-10.18</td>\n",
       "      <td>234.09</td>\n",
       "      <td>-3.46</td>\n",
       "    </tr>\n",
       "    <tr>\n",
       "      <th>2020-05-01</th>\n",
       "      <td>2.04</td>\n",
       "      <td>-10.20</td>\n",
       "      <td>-17.78</td>\n",
       "    </tr>\n",
       "    <tr>\n",
       "      <th>2020-06-01</th>\n",
       "      <td>2.87</td>\n",
       "      <td>-16.67</td>\n",
       "      <td>16.91</td>\n",
       "    </tr>\n",
       "    <tr>\n",
       "      <th>2020-07-01</th>\n",
       "      <td>0.29</td>\n",
       "      <td>-7.27</td>\n",
       "      <td>11.01</td>\n",
       "    </tr>\n",
       "    <tr>\n",
       "      <th>2020-09-01</th>\n",
       "      <td>0.37</td>\n",
       "      <td>-5.95</td>\n",
       "      <td>7.37</td>\n",
       "    </tr>\n",
       "    <tr>\n",
       "      <th>2020-10-01</th>\n",
       "      <td>0.22</td>\n",
       "      <td>-12.66</td>\n",
       "      <td>9.51</td>\n",
       "    </tr>\n",
       "    <tr>\n",
       "      <th>2020-12-01</th>\n",
       "      <td>0.27</td>\n",
       "      <td>0.00</td>\n",
       "      <td>-3.26</td>\n",
       "    </tr>\n",
       "  </tbody>\n",
       "</table>\n",
       "</div>"
      ],
      "text/plain": [
       "            Manufacturing employement  Unemployement rate  NASDAQ\n",
       "2020-04-01                     -10.18              234.09   -3.46\n",
       "2020-05-01                       2.04              -10.20  -17.78\n",
       "2020-06-01                       2.87              -16.67   16.91\n",
       "2020-07-01                       0.29               -7.27   11.01\n",
       "2020-09-01                       0.37               -5.95    7.37\n",
       "2020-10-01                       0.22              -12.66    9.51\n",
       "2020-12-01                       0.27                0.00   -3.26"
      ]
     },
     "execution_count": 11,
     "metadata": {},
     "output_type": "execute_result"
    }
   ],
   "source": [
    "df"
   ]
  },
  {
   "cell_type": "code",
   "execution_count": null,
   "metadata": {},
   "outputs": [],
   "source": []
  }
 ],
 "metadata": {
  "kernelspec": {
   "display_name": "Python 3.9.7 64-bit",
   "language": "python",
   "name": "python3"
  },
  "language_info": {
   "codemirror_mode": {
    "name": "ipython",
    "version": 3
   },
   "file_extension": ".py",
   "mimetype": "text/x-python",
   "name": "python",
   "nbconvert_exporter": "python",
   "pygments_lexer": "ipython3",
   "version": "3.9.7"
  },
  "orig_nbformat": 4,
  "vscode": {
   "interpreter": {
    "hash": "a20cf09c87d684c2bf4b321b1f9c96d749e1e38b6f01eaa860ba409b0c3297da"
   }
  }
 },
 "nbformat": 4,
 "nbformat_minor": 2
}
